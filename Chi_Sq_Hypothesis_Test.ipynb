{
 "cells": [
  {
   "cell_type": "markdown",
   "id": "371be1a1",
   "metadata": {},
   "source": [
    "### basic checks for the assumptions of Chi Sq"
   ]
  },
  {
   "cell_type": "code",
   "execution_count": 2,
   "id": "84d2663e",
   "metadata": {},
   "outputs": [],
   "source": [
    "import pandas as pd\n",
    "import numpy as np\n",
    "\n",
    "def check_chi_square_assumptions(df, column1, column2):\n",
    "    # Check for categorical variables\n",
    "    if not np.issubdtype(df[column1].dtype, np.dtype(object).type) or not np.issubdtype(df[column2].dtype, np.dtype(object).type):\n",
    "        return \"Both variables should be categorical.\"\n",
    "    \n",
    "    # Check for large sample size\n",
    "    contingency_table = pd.crosstab(df[column1], df[column2])\n",
    "    if (contingency_table.values < 5).sum() > 0:\n",
    "        return \"Sample size is too small, there should be at least 5 observations in each cell of the contingency table.\"\n",
    "    \n",
    "    # Check for independence of variables\n",
    "    corr = df[[column1, column2]].corr().iloc[0, 1]\n",
    "    if abs(corr) >= 0.8:\n",
    "        return \"The variables are not independent, the correlation between them is too high.\"\n",
    "    \n",
    "    # Assumptions appear to be met\n",
    "    return \"Assumptions for the chi-square test of independence appear to be met.\"\n"
   ]
  },
  {
   "cell_type": "markdown",
   "id": "1d122a43",
   "metadata": {},
   "source": [
    "### Chi Sq Test"
   ]
  },
  {
   "cell_type": "code",
   "execution_count": 1,
   "id": "d92b0e7f",
   "metadata": {},
   "outputs": [],
   "source": [
    "import pandas as pd\n",
    "import numpy as np\n",
    "from scipy import stats\n",
    "\n",
    "def chi_square_test_of_independence(df, alpha=0.05):\n",
    "    columns = df.columns\n",
    "    results_df = pd.DataFrame(columns=['Column 1', 'Column 2', 'Chi-Square Statistic', 'p-Value', 'Null Hypothesis'])\n",
    "    for i in range(0, len(columns)):\n",
    "        for j in range(i+1, len(columns)):\n",
    "            column1 = columns[i]\n",
    "            column2 = columns[j]\n",
    "            contingency_table = pd.crosstab(df[column1], df[column2])\n",
    "            chi2, p, dof, expected = stats.chi2_contingency(contingency_table)\n",
    "            if p < alpha:\n",
    "                results_df = results_df.append({'Column 1': column1, 'Column 2': column2, \n",
    "                                                'Chi-Square Statistic': chi2, 'p-Value': p,\n",
    "                                                'Null Hypothesis': 'Rejected'}, ignore_index=True)\n",
    "            else:\n",
    "                results_df = results_df.append({'Column 1': column1, 'Column 2': column2, \n",
    "                                                'Chi-Square Statistic': chi2, 'p-Value': p,\n",
    "                                                'Null Hypothesis': 'Accepted'}, ignore_index=True)\n",
    "    return results_df\n"
   ]
  },
  {
   "cell_type": "code",
   "execution_count": 3,
   "id": "9f70d5f4",
   "metadata": {},
   "outputs": [],
   "source": [
    "import pandas as pd\n",
    "import numpy as np\n",
    "\n",
    "def chi_square(df, column1, column2):\n",
    "    contingency_table = pd.crosstab(df[column1], df[column2])\n",
    "    chi2, p, dof, expected = stats.chi2_contingency(contingency_table)\n",
    "    return chi2, p\n"
   ]
  },
  {
   "cell_type": "code",
   "execution_count": 4,
   "id": "24055e41",
   "metadata": {},
   "outputs": [],
   "source": [
    "import pandas as pd\n",
    "import numpy as np\n",
    "from scipy import stats\n",
    "\n",
    "def chi_square_test_of_independence(df):\n",
    "    results = []\n",
    "    columns = df.columns\n",
    "    for i in range(0, len(columns)):\n",
    "        for j in range(i+1, len(columns)):\n",
    "            column1 = columns[i]\n",
    "            column2 = columns[j]\n",
    "            contingency_table = pd.crosstab(df[column1], df[column2])\n",
    "            chi2, p, dof, expected = stats.chi2_contingency(contingency_table)\n",
    "            results.append((column1, column2, chi2, p))\n",
    "    return results\n"
   ]
  },
  {
   "cell_type": "code",
   "execution_count": null,
   "id": "d8a90eac",
   "metadata": {},
   "outputs": [],
   "source": []
  }
 ],
 "metadata": {
  "kernelspec": {
   "display_name": "Python 3 (ipykernel)",
   "language": "python",
   "name": "python3"
  },
  "language_info": {
   "codemirror_mode": {
    "name": "ipython",
    "version": 3
   },
   "file_extension": ".py",
   "mimetype": "text/x-python",
   "name": "python",
   "nbconvert_exporter": "python",
   "pygments_lexer": "ipython3",
   "version": "3.9.7"
  }
 },
 "nbformat": 4,
 "nbformat_minor": 5
}
