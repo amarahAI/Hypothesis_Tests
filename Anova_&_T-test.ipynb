{
 "cells": [
  {
   "cell_type": "code",
   "execution_count": 1,
   "id": "6af503fa",
   "metadata": {},
   "outputs": [],
   "source": [
    "import pandas as pd\n",
    "import scipy.stats as stats\n",
    "\n",
    "def perform_anova_test(df):\n",
    "    results = []\n",
    "    categorical_column = input(\"Enter the name of the categorical column: \")\n",
    "    continuous_column = input(\"Enter the name of the continuous column: \")\n",
    "    \n",
    "    categories = df[categorical_column].unique()\n",
    "    if len(categories) == 2:\n",
    "        # Perform a two-sample t-test\n",
    "        group1 = df[df[categorical_column] == categories[0]][continuous_column]\n",
    "        group2 = df[df[categorical_column] == categories[1]][continuous_column]\n",
    "        t_stat, p_value = stats.ttest_ind(group1, group2)\n",
    "        results.append({\n",
    "            'test_type': 'Two-Sample T-Test',\n",
    "            'group1': categories[0],\n",
    "            'group2': categories[1],\n",
    "            't_statistic': t_stat,\n",
    "            'p_value': p_value,\n",
    "            'null_hypothesis': 'Reject' if p_value < 0.05 else 'Accept'\n",
    "        })\n",
    "    else:\n",
    "        # Perform a one-way ANOVA test\n",
    "        groups = [df[df[categorical_column] == category][continuous_column] for category in categories]\n",
    "        f_stat, p_value = stats.f_oneway(*groups)\n",
    "        results.append({\n",
    "            'test_type': 'One-Way ANOVA',\n",
    "            'groups': categories,\n",
    "            'f_statistic': f_stat,\n",
    "            'p_value': p_value,\n",
    "            'null_hypothesis': 'Reject' if p_value < 0.05 else 'Accept'\n",
    "        })\n",
    "        \n",
    "    return pd.DataFrame(results)\n",
    "\n"
   ]
  },
  {
   "cell_type": "code",
   "execution_count": 4,
   "id": "e6c82946",
   "metadata": {},
   "outputs": [],
   "source": [
    "import pandas as pd\n",
    "import scipy.stats as stats\n",
    "\n",
    "def perform_anova_test(df):\n",
    "    categorical_column = input(\"Enter the name of the categorical column: \")\n",
    "    continuous_column = input(\"Enter the name of the continuous column: \")\n",
    "    \n",
    "    categories = df[categorical_column].unique()\n",
    "    if len(categories) == 2:\n",
    "        # Perform a two-sample t-test\n",
    "        group1 = df[df[categorical_column] == categories[0]][continuous_column]\n",
    "        group2 = df[df[categorical_column] == categories[1]][continuous_column]\n",
    "        t_stat, p_value = stats.ttest_ind(group1, group2)\n",
    "        print(\"The t-statistic is {:.3f} and the p-value is {:.3f}\".format(t_stat, p_value))\n",
    "        if p_value < 0.05:\n",
    "            print(\"We reject the null hypothesis.\")\n",
    "        else:\n",
    "            print(\"We fail to reject the null hypothesis.\")\n",
    "    else:\n",
    "        # Perform a one-way ANOVA test\n",
    "        groups = [df[df[categorical_column] == category][continuous_column] for category in categories]\n",
    "        f_stat, p_value = stats.f_oneway(*groups)\n",
    "        print(\"The F-statistic is {:.3f} and the p-value is {:.3f}\".format(f_stat, p_value))\n",
    "        if p_value < 0.05:\n",
    "            print(\"We reject the null hypothesis.\")\n",
    "        else:\n",
    "            print(\"We fail to reject the null hypothesis.\")\n",
    "\n",
    "# Example usage:\n",
    "#df = pd.read_csv(\"data.csv\")\n",
    "#perform_anova_test(df)\n"
   ]
  },
  {
   "cell_type": "code",
   "execution_count": null,
   "id": "b0685663",
   "metadata": {},
   "outputs": [],
   "source": []
  }
 ],
 "metadata": {
  "kernelspec": {
   "display_name": "Python 3 (ipykernel)",
   "language": "python",
   "name": "python3"
  },
  "language_info": {
   "codemirror_mode": {
    "name": "ipython",
    "version": 3
   },
   "file_extension": ".py",
   "mimetype": "text/x-python",
   "name": "python",
   "nbconvert_exporter": "python",
   "pygments_lexer": "ipython3",
   "version": "3.9.7"
  }
 },
 "nbformat": 4,
 "nbformat_minor": 5
}
